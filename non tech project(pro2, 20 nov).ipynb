{
 "cells": [
  {
   "cell_type": "markdown",
   "id": "30a8f582-8d1e-457d-8d1a-fab6134f2aa3",
   "metadata": {},
   "source": [
    "# 20 NOV"
   ]
  },
  {
   "cell_type": "code",
   "execution_count": 9,
   "id": "fda5ddb3-d5a6-495c-80a0-a48e4ab2070a",
   "metadata": {},
   "outputs": [],
   "source": [
    "import openpyxl\n",
    "import pandas as pd\n",
    "\n",
    "workbook = openpyxl.Workbook()\n",
    "sheet = workbook.active\n",
    "\n",
    "data = [\n",
    "    ['NAME', 'DOMAIN', 'AGE', 'LOCATION', 'SALARY', 'EXP'],\n",
    "    ['ALEX', 'TESTING', 25, 'BNG', 5000, 2],\n",
    "    ['BARB', 'JAVA', 30, 'CHE', 10000, 3],\n",
    "    ['CHERRY', 'C', 35, 'PUNE', 15000, 4],\n",
    "    ['MIKE', 'DA', 38, 'MUMBAI', 20000, 5],\n",
    "    ['CATHY', 'DS', 40, 'HYD', 50000, 6]\n",
    "]\n",
    "\n",
    "for row in data:\n",
    "    sheet.append(row)\n",
    "\n",
    "workbook.save('data.xlsx')"
   ]
  },
  {
   "cell_type": "code",
   "execution_count": 10,
   "id": "08565f75-3b0b-4325-aac6-8dcd4d6e4af9",
   "metadata": {},
   "outputs": [
    {
     "data": {
      "text/plain": [
       "[['NAME', 'DOMAIN', 'AGE', 'LOCATION', 'SALARY', 'EXP'],\n",
       " ['ALEX', 'TESTING', 25, 'BNG', 5000, 2],\n",
       " ['BARB', 'JAVA', 30, 'CHE', 10000, 3],\n",
       " ['CHERRY', 'C', 35, 'PUNE', 15000, 4],\n",
       " ['MIKE', 'DA', 38, 'MUMBAI', 20000, 5],\n",
       " ['CATHY', 'DS', 40, 'HYD', 50000, 6]]"
      ]
     },
     "execution_count": 10,
     "metadata": {},
     "output_type": "execute_result"
    }
   ],
   "source": [
    "data"
   ]
  },
  {
   "cell_type": "code",
   "execution_count": 16,
   "id": "bf994c3a-3a74-4c3a-b78a-92d6e2748974",
   "metadata": {},
   "outputs": [
    {
     "data": {
      "text/plain": [
       "'C:\\\\Users\\\\sai'"
      ]
     },
     "execution_count": 16,
     "metadata": {},
     "output_type": "execute_result"
    }
   ],
   "source": [
    "import os\n",
    "os.getcwd()"
   ]
  },
  {
   "cell_type": "code",
   "execution_count": 5,
   "id": "4f6e0bbc-7a6e-4c15-bddc-5e8f1abbd745",
   "metadata": {},
   "outputs": [
    {
     "data": {
      "text/html": [
       "<div>\n",
       "<style scoped>\n",
       "    .dataframe tbody tr th:only-of-type {\n",
       "        vertical-align: middle;\n",
       "    }\n",
       "\n",
       "    .dataframe tbody tr th {\n",
       "        vertical-align: top;\n",
       "    }\n",
       "\n",
       "    .dataframe thead th {\n",
       "        text-align: right;\n",
       "    }\n",
       "</style>\n",
       "<table border=\"1\" class=\"dataframe\">\n",
       "  <thead>\n",
       "    <tr style=\"text-align: right;\">\n",
       "      <th></th>\n",
       "      <th>NAME</th>\n",
       "      <th>DOMAIN</th>\n",
       "      <th>AGE</th>\n",
       "      <th>LOCATION</th>\n",
       "      <th>SALARY</th>\n",
       "      <th>EXP</th>\n",
       "    </tr>\n",
       "  </thead>\n",
       "  <tbody>\n",
       "    <tr>\n",
       "      <th>0</th>\n",
       "      <td>ALEX</td>\n",
       "      <td>TESTING</td>\n",
       "      <td>25</td>\n",
       "      <td>BNG</td>\n",
       "      <td>5000</td>\n",
       "      <td>2</td>\n",
       "    </tr>\n",
       "    <tr>\n",
       "      <th>1</th>\n",
       "      <td>BARB</td>\n",
       "      <td>JAVA</td>\n",
       "      <td>30</td>\n",
       "      <td>CHE</td>\n",
       "      <td>10000</td>\n",
       "      <td>3</td>\n",
       "    </tr>\n",
       "    <tr>\n",
       "      <th>2</th>\n",
       "      <td>CHERRY</td>\n",
       "      <td>C</td>\n",
       "      <td>35</td>\n",
       "      <td>PUNE</td>\n",
       "      <td>15000</td>\n",
       "      <td>4</td>\n",
       "    </tr>\n",
       "    <tr>\n",
       "      <th>3</th>\n",
       "      <td>MIKE</td>\n",
       "      <td>DA</td>\n",
       "      <td>38</td>\n",
       "      <td>MUMBAI</td>\n",
       "      <td>20000</td>\n",
       "      <td>5</td>\n",
       "    </tr>\n",
       "    <tr>\n",
       "      <th>4</th>\n",
       "      <td>CATHY</td>\n",
       "      <td>DS</td>\n",
       "      <td>40</td>\n",
       "      <td>HYD</td>\n",
       "      <td>50000</td>\n",
       "      <td>6</td>\n",
       "    </tr>\n",
       "  </tbody>\n",
       "</table>\n",
       "</div>"
      ],
      "text/plain": [
       "     NAME   DOMAIN  AGE LOCATION  SALARY  EXP\n",
       "0    ALEX  TESTING   25      BNG    5000    2\n",
       "1    BARB     JAVA   30      CHE   10000    3\n",
       "2  CHERRY        C   35     PUNE   15000    4\n",
       "3    MIKE       DA   38   MUMBAI   20000    5\n",
       "4   CATHY       DS   40      HYD   50000    6"
      ]
     },
     "execution_count": 5,
     "metadata": {},
     "output_type": "execute_result"
    }
   ],
   "source": [
    "emp = pd.read_excel(r'C:\\\\Users\\\\sai\\data.xlsx')\n",
    "emp"
   ]
  },
  {
   "cell_type": "code",
   "execution_count": 18,
   "id": "c67d3462-a266-4bd6-9b1c-0fbc54c7dc50",
   "metadata": {},
   "outputs": [
    {
     "data": {
      "text/plain": [
       "(5, 6)"
      ]
     },
     "execution_count": 18,
     "metadata": {},
     "output_type": "execute_result"
    }
   ],
   "source": [
    "emp.shape"
   ]
  },
  {
   "cell_type": "code",
   "execution_count": 22,
   "id": "6bdafcdf-20db-441b-9980-a72478282eae",
   "metadata": {},
   "outputs": [
    {
     "data": {
      "text/plain": [
       "Index(['NAME', 'DOMAIN', 'AGE', 'LOCATION', 'SALARY', 'EXP'], dtype='object')"
      ]
     },
     "execution_count": 22,
     "metadata": {},
     "output_type": "execute_result"
    }
   ],
   "source": [
    "emp.columns"
   ]
  },
  {
   "cell_type": "code",
   "execution_count": 24,
   "id": "373cb445-fcc1-4302-b96d-c1d20dbc502c",
   "metadata": {},
   "outputs": [
    {
     "data": {
      "text/plain": [
       "6"
      ]
     },
     "execution_count": 24,
     "metadata": {},
     "output_type": "execute_result"
    }
   ],
   "source": [
    "len(emp.columns)"
   ]
  },
  {
   "cell_type": "code",
   "execution_count": 26,
   "id": "cbfe5574-5ecc-495d-955b-cdee50b18a40",
   "metadata": {},
   "outputs": [
    {
     "ename": "AttributeError",
     "evalue": "'DataFrame' object has no attribute 'rows'",
     "output_type": "error",
     "traceback": [
      "\u001b[1;31m---------------------------------------------------------------------------\u001b[0m",
      "\u001b[1;31mAttributeError\u001b[0m                            Traceback (most recent call last)",
      "\u001b[1;32m~\\AppData\\Local\\Temp\\ipykernel_9036\\3236092108.py\u001b[0m in \u001b[0;36m?\u001b[1;34m()\u001b[0m\n\u001b[1;32m----> 1\u001b[1;33m \u001b[0memp\u001b[0m\u001b[1;33m.\u001b[0m\u001b[0mrows\u001b[0m\u001b[1;33m\u001b[0m\u001b[1;33m\u001b[0m\u001b[0m\n\u001b[0m",
      "\u001b[1;32m~\\anaconda3\\Lib\\site-packages\\pandas\\core\\generic.py\u001b[0m in \u001b[0;36m?\u001b[1;34m(self, name)\u001b[0m\n\u001b[0;32m   6295\u001b[0m             \u001b[1;32mand\u001b[0m \u001b[0mname\u001b[0m \u001b[1;32mnot\u001b[0m \u001b[1;32min\u001b[0m \u001b[0mself\u001b[0m\u001b[1;33m.\u001b[0m\u001b[0m_accessors\u001b[0m\u001b[1;33m\u001b[0m\u001b[1;33m\u001b[0m\u001b[0m\n\u001b[0;32m   6296\u001b[0m             \u001b[1;32mand\u001b[0m \u001b[0mself\u001b[0m\u001b[1;33m.\u001b[0m\u001b[0m_info_axis\u001b[0m\u001b[1;33m.\u001b[0m\u001b[0m_can_hold_identifiers_and_holds_name\u001b[0m\u001b[1;33m(\u001b[0m\u001b[0mname\u001b[0m\u001b[1;33m)\u001b[0m\u001b[1;33m\u001b[0m\u001b[1;33m\u001b[0m\u001b[0m\n\u001b[0;32m   6297\u001b[0m         \u001b[1;33m)\u001b[0m\u001b[1;33m:\u001b[0m\u001b[1;33m\u001b[0m\u001b[1;33m\u001b[0m\u001b[0m\n\u001b[0;32m   6298\u001b[0m             \u001b[1;32mreturn\u001b[0m \u001b[0mself\u001b[0m\u001b[1;33m[\u001b[0m\u001b[0mname\u001b[0m\u001b[1;33m]\u001b[0m\u001b[1;33m\u001b[0m\u001b[1;33m\u001b[0m\u001b[0m\n\u001b[1;32m-> 6299\u001b[1;33m         \u001b[1;32mreturn\u001b[0m \u001b[0mobject\u001b[0m\u001b[1;33m.\u001b[0m\u001b[0m__getattribute__\u001b[0m\u001b[1;33m(\u001b[0m\u001b[0mself\u001b[0m\u001b[1;33m,\u001b[0m \u001b[0mname\u001b[0m\u001b[1;33m)\u001b[0m\u001b[1;33m\u001b[0m\u001b[1;33m\u001b[0m\u001b[0m\n\u001b[0m",
      "\u001b[1;31mAttributeError\u001b[0m: 'DataFrame' object has no attribute 'rows'"
     ]
    }
   ],
   "source": [
    "emp.rows"
   ]
  },
  {
   "cell_type": "code",
   "execution_count": 28,
   "id": "b1a880e7-4370-4922-a58d-523cb3b7dc7d",
   "metadata": {},
   "outputs": [
    {
     "data": {
      "text/plain": [
       "5"
      ]
     },
     "execution_count": 28,
     "metadata": {},
     "output_type": "execute_result"
    }
   ],
   "source": [
    "len(emp)"
   ]
  },
  {
   "cell_type": "code",
   "execution_count": 30,
   "id": "45ca70f2-c957-429f-a432-7bfdc339602a",
   "metadata": {},
   "outputs": [
    {
     "data": {
      "text/html": [
       "<div>\n",
       "<style scoped>\n",
       "    .dataframe tbody tr th:only-of-type {\n",
       "        vertical-align: middle;\n",
       "    }\n",
       "\n",
       "    .dataframe tbody tr th {\n",
       "        vertical-align: top;\n",
       "    }\n",
       "\n",
       "    .dataframe thead th {\n",
       "        text-align: right;\n",
       "    }\n",
       "</style>\n",
       "<table border=\"1\" class=\"dataframe\">\n",
       "  <thead>\n",
       "    <tr style=\"text-align: right;\">\n",
       "      <th></th>\n",
       "      <th>NAME</th>\n",
       "      <th>DOMAIN</th>\n",
       "      <th>AGE</th>\n",
       "      <th>LOCATION</th>\n",
       "      <th>SALARY</th>\n",
       "      <th>EXP</th>\n",
       "    </tr>\n",
       "  </thead>\n",
       "  <tbody>\n",
       "    <tr>\n",
       "      <th>0</th>\n",
       "      <td>ALEX</td>\n",
       "      <td>TESTING</td>\n",
       "      <td>25</td>\n",
       "      <td>BNG</td>\n",
       "      <td>5000</td>\n",
       "      <td>2</td>\n",
       "    </tr>\n",
       "    <tr>\n",
       "      <th>1</th>\n",
       "      <td>BARB</td>\n",
       "      <td>JAVA</td>\n",
       "      <td>30</td>\n",
       "      <td>CHE</td>\n",
       "      <td>10000</td>\n",
       "      <td>3</td>\n",
       "    </tr>\n",
       "    <tr>\n",
       "      <th>2</th>\n",
       "      <td>CHERRY</td>\n",
       "      <td>C</td>\n",
       "      <td>35</td>\n",
       "      <td>PUNE</td>\n",
       "      <td>15000</td>\n",
       "      <td>4</td>\n",
       "    </tr>\n",
       "    <tr>\n",
       "      <th>3</th>\n",
       "      <td>MIKE</td>\n",
       "      <td>DA</td>\n",
       "      <td>38</td>\n",
       "      <td>MUMBAI</td>\n",
       "      <td>20000</td>\n",
       "      <td>5</td>\n",
       "    </tr>\n",
       "    <tr>\n",
       "      <th>4</th>\n",
       "      <td>CATHY</td>\n",
       "      <td>DS</td>\n",
       "      <td>40</td>\n",
       "      <td>HYD</td>\n",
       "      <td>50000</td>\n",
       "      <td>6</td>\n",
       "    </tr>\n",
       "  </tbody>\n",
       "</table>\n",
       "</div>"
      ],
      "text/plain": [
       "     NAME   DOMAIN  AGE LOCATION  SALARY  EXP\n",
       "0    ALEX  TESTING   25      BNG    5000    2\n",
       "1    BARB     JAVA   30      CHE   10000    3\n",
       "2  CHERRY        C   35     PUNE   15000    4\n",
       "3    MIKE       DA   38   MUMBAI   20000    5\n",
       "4   CATHY       DS   40      HYD   50000    6"
      ]
     },
     "execution_count": 30,
     "metadata": {},
     "output_type": "execute_result"
    }
   ],
   "source": [
    "emp"
   ]
  },
  {
   "cell_type": "code",
   "execution_count": 32,
   "id": "08a27bfb-54a3-4878-b509-bfc00d8d672f",
   "metadata": {},
   "outputs": [
    {
     "data": {
      "text/plain": [
       "0     5000\n",
       "1    10000\n",
       "2    15000\n",
       "3    20000\n",
       "4    50000\n",
       "Name: SALARY, dtype: int64"
      ]
     },
     "execution_count": 32,
     "metadata": {},
     "output_type": "execute_result"
    }
   ],
   "source": [
    "emp['SALARY']"
   ]
  },
  {
   "cell_type": "code",
   "execution_count": 36,
   "id": "0bc5a7d9-5962-47ac-be15-8d1c1f4e2f67",
   "metadata": {},
   "outputs": [
    {
     "data": {
      "text/html": [
       "<div>\n",
       "<style scoped>\n",
       "    .dataframe tbody tr th:only-of-type {\n",
       "        vertical-align: middle;\n",
       "    }\n",
       "\n",
       "    .dataframe tbody tr th {\n",
       "        vertical-align: top;\n",
       "    }\n",
       "\n",
       "    .dataframe thead th {\n",
       "        text-align: right;\n",
       "    }\n",
       "</style>\n",
       "<table border=\"1\" class=\"dataframe\">\n",
       "  <thead>\n",
       "    <tr style=\"text-align: right;\">\n",
       "      <th></th>\n",
       "      <th>SALARY</th>\n",
       "      <th>EXP</th>\n",
       "    </tr>\n",
       "  </thead>\n",
       "  <tbody>\n",
       "    <tr>\n",
       "      <th>0</th>\n",
       "      <td>5000</td>\n",
       "      <td>2</td>\n",
       "    </tr>\n",
       "    <tr>\n",
       "      <th>1</th>\n",
       "      <td>10000</td>\n",
       "      <td>3</td>\n",
       "    </tr>\n",
       "    <tr>\n",
       "      <th>2</th>\n",
       "      <td>15000</td>\n",
       "      <td>4</td>\n",
       "    </tr>\n",
       "    <tr>\n",
       "      <th>3</th>\n",
       "      <td>20000</td>\n",
       "      <td>5</td>\n",
       "    </tr>\n",
       "    <tr>\n",
       "      <th>4</th>\n",
       "      <td>50000</td>\n",
       "      <td>6</td>\n",
       "    </tr>\n",
       "  </tbody>\n",
       "</table>\n",
       "</div>"
      ],
      "text/plain": [
       "   SALARY  EXP\n",
       "0    5000    2\n",
       "1   10000    3\n",
       "2   15000    4\n",
       "3   20000    5\n",
       "4   50000    6"
      ]
     },
     "execution_count": 36,
     "metadata": {},
     "output_type": "execute_result"
    }
   ],
   "source": [
    "emp[['SALARY', 'EXP']]"
   ]
  },
  {
   "cell_type": "code",
   "execution_count": 40,
   "id": "f2a75f27-8c67-427f-be50-195ca21afe7e",
   "metadata": {},
   "outputs": [],
   "source": [
    "import numpy as np #NO ARRAT\n",
    "import matplotlib.pyplot as plt #VISUALIZATION\n",
    "import seaborn as sns #STATISTIC VISUALIZATION"
   ]
  },
  {
   "cell_type": "code",
   "execution_count": 42,
   "id": "d9f161be-d527-48ba-a8be-7591ecb12ef9",
   "metadata": {},
   "outputs": [
    {
     "data": {
      "image/png": "[encoded data removed]",
      "text/plain": [
       "<Figure size 500x500 with 1 Axes>"
      ]
     },
     "metadata": {},
     "output_type": "display_data"
    }
   ],
   "source": [
    "vis1=sns.displot(emp['SALARY'])"
   ]
  },
  {
   "cell_type": "code",
   "execution_count": 46,
   "id": "aa740ea7-b969-480a-819e-02a589757091",
   "metadata": {},
   "outputs": [
    {
     "name": "stderr",
     "output_type": "stream",
     "text": [
      "C:\\Users\\sai\\AppData\\Local\\Temp\\ipykernel_9036\\375839575.py:1: UserWarning: \n",
      "\n",
      "`distplot` is a deprecated function and will be removed in seaborn v0.14.0.\n",
      "\n",
      "Please adapt your code to use either `displot` (a figure-level function with\n",
      "similar flexibility) or `histplot` (an axes-level function for histograms).\n",
      "\n",
      "For a guide to updating your code to use the new functions, please see\n",
      "https://gist.github.com/mwaskom/de44147ed2974457ad6372750bbe5751\n",
      "\n",
      "  vis2=sns.distplot(emp['SALARY'])\n"
     ]
    },
    {
     "data": {
      "image/png": "[encoded data removed]",
      "text/plain": [
       "<Figure size 640x480 with 1 Axes>"
      ]
     },
     "metadata": {},
     "output_type": "display_data"
    }
   ],
   "source": [
    "vis2=sns.distplot(emp['SALARY'])"
   ]
  },
  {
   "cell_type": "code",
   "execution_count": 50,
   "id": "dc292171-8414-4491-94f7-4f9070d9fc0a",
   "metadata": {},
   "outputs": [
    {
     "data": {
      "image/png": "[encoded data removed]",
      "text/plain": [
       "<Figure size 640x480 with 1 Axes>"
      ]
     },
     "metadata": {},
     "output_type": "display_data"
    }
   ],
   "source": [
    "vis3=plt.hist(emp['SALARY'])"
   ]
  },
  {
   "cell_type": "code",
   "execution_count": 52,
   "id": "066c825e-5960-42dd-b73a-bfd14298f90f",
   "metadata": {},
   "outputs": [
    {
     "data": {
      "text/html": [
       "<div>\n",
       "<style scoped>\n",
       "    .dataframe tbody tr th:only-of-type {\n",
       "        vertical-align: middle;\n",
       "    }\n",
       "\n",
       "    .dataframe tbody tr th {\n",
       "        vertical-align: top;\n",
       "    }\n",
       "\n",
       "    .dataframe thead th {\n",
       "        text-align: right;\n",
       "    }\n",
       "</style>\n",
       "<table border=\"1\" class=\"dataframe\">\n",
       "  <thead>\n",
       "    <tr style=\"text-align: right;\">\n",
       "      <th></th>\n",
       "      <th>NAME</th>\n",
       "      <th>DOMAIN</th>\n",
       "      <th>AGE</th>\n",
       "      <th>LOCATION</th>\n",
       "      <th>SALARY</th>\n",
       "      <th>EXP</th>\n",
       "    </tr>\n",
       "  </thead>\n",
       "  <tbody>\n",
       "    <tr>\n",
       "      <th>0</th>\n",
       "      <td>ALEX</td>\n",
       "      <td>TESTING</td>\n",
       "      <td>25</td>\n",
       "      <td>BNG</td>\n",
       "      <td>5000</td>\n",
       "      <td>2</td>\n",
       "    </tr>\n",
       "    <tr>\n",
       "      <th>1</th>\n",
       "      <td>BARB</td>\n",
       "      <td>JAVA</td>\n",
       "      <td>30</td>\n",
       "      <td>CHE</td>\n",
       "      <td>10000</td>\n",
       "      <td>3</td>\n",
       "    </tr>\n",
       "    <tr>\n",
       "      <th>2</th>\n",
       "      <td>CHERRY</td>\n",
       "      <td>C</td>\n",
       "      <td>35</td>\n",
       "      <td>PUNE</td>\n",
       "      <td>15000</td>\n",
       "      <td>4</td>\n",
       "    </tr>\n",
       "    <tr>\n",
       "      <th>3</th>\n",
       "      <td>MIKE</td>\n",
       "      <td>DA</td>\n",
       "      <td>38</td>\n",
       "      <td>MUMBAI</td>\n",
       "      <td>20000</td>\n",
       "      <td>5</td>\n",
       "    </tr>\n",
       "    <tr>\n",
       "      <th>4</th>\n",
       "      <td>CATHY</td>\n",
       "      <td>DS</td>\n",
       "      <td>40</td>\n",
       "      <td>HYD</td>\n",
       "      <td>50000</td>\n",
       "      <td>6</td>\n",
       "    </tr>\n",
       "  </tbody>\n",
       "</table>\n",
       "</div>"
      ],
      "text/plain": [
       "     NAME   DOMAIN  AGE LOCATION  SALARY  EXP\n",
       "0    ALEX  TESTING   25      BNG    5000    2\n",
       "1    BARB     JAVA   30      CHE   10000    3\n",
       "2  CHERRY        C   35     PUNE   15000    4\n",
       "3    MIKE       DA   38   MUMBAI   20000    5\n",
       "4   CATHY       DS   40      HYD   50000    6"
      ]
     },
     "execution_count": 52,
     "metadata": {},
     "output_type": "execute_result"
    }
   ],
   "source": [
    "emp"
   ]
  },
  {
   "cell_type": "code",
   "execution_count": 60,
   "id": "7523224d-2bad-43ba-b98a-339bff126ff1",
   "metadata": {},
   "outputs": [],
   "source": [
    "plt.rcParams['figure.figsize']=5,1"
   ]
  },
  {
   "cell_type": "code",
   "execution_count": 58,
   "id": "8142f43d-7107-4542-82ee-c80c7f821b4a",
   "metadata": {},
   "outputs": [
    {
     "data": {
      "image/png": "[encoded data removed]",
      "text/plain": [
       "<Figure size 500x500 with 1 Axes>"
      ]
     },
     "metadata": {},
     "output_type": "display_data"
    }
   ],
   "source": [
    "vis5=sns.lmplot(data=emp,x='EXP',y='SALARY')"
   ]
  },
  {
   "cell_type": "code",
   "execution_count": 66,
   "id": "d922d1da-d2e8-4bbe-97e2-cf405308b946",
   "metadata": {},
   "outputs": [],
   "source": [
    "plt.rcParams['figure.figsize']=1,1"
   ]
  },
  {
   "cell_type": "code",
   "execution_count": 68,
   "id": "951e540b-2ad8-49c4-a747-f0e32c51f01a",
   "metadata": {},
   "outputs": [
    {
     "data": {
      "image/png": "[encoded data removed]",
      "text/plain": [
       "<Figure size 500x500 with 1 Axes>"
      ]
     },
     "metadata": {},
     "output_type": "display_data"
    }
   ],
   "source": [
    "vis5=sns.lmplot(data=emp,x='EXP',y='SALARY')"
   ]
  },
  {
   "cell_type": "code",
   "execution_count": null,
   "id": "dc8de729-b356-4514-a506-28c199fa4bfe",
   "metadata": {},
   "outputs": [],
   "source": []
  }
 ],
 "metadata": {
  "kernelspec": {
   "display_name": "Python 3 (ipykernel)",
   "language": "python",
   "name": "python3"
  },
  "language_info": {
   "codemirror_mode": {
    "name": "ipython",
    "version": 3
   },
   "file_extension": ".py",
   "mimetype": "text/x-python",
   "name": "python",
   "nbconvert_exporter": "python",
   "pygments_lexer": "ipython3",
   "version": "3.12.4"
  }
 },
 "nbformat": 4,
 "nbformat_minor": 5
}
